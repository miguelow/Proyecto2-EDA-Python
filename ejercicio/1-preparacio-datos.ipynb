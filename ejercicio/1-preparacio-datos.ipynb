{
 "cells": [
  {
   "cell_type": "markdown",
   "metadata": {},
   "source": [
    "# A lo largo del ejercicio, usaré el siguiente [enunciado](../enunciado.md) como guíon\n"
   ]
  },
  {
   "cell_type": "markdown",
   "metadata": {},
   "source": [
    "# Fase 1: Unión de Conjuntos de Datos\n",
    "Importamos las librerías necesarias y configuración inicial"
   ]
  },
  {
   "cell_type": "code",
   "execution_count": null,
   "metadata": {},
   "outputs": [],
   "source": [
    "import pandas as pd\n",
    "import numpy as np\n",
    "\n",
    "# Importamos el archivo de funciones auxiliares\n",
    "import sys \n",
    "sys.path.append(\"..\")\n",
    "from src import funcionesAuxiliares as aux\n",
    "\n",
    "# Nos permite visualizar todas las columnas de los DataFrames\n",
    "pd.set_option('display.max_columns', None)"
   ]
  },
  {
   "cell_type": "markdown",
   "metadata": {},
   "source": [
    "## Importamos los datos"
   ]
  },
  {
   "cell_type": "code",
   "execution_count": 10,
   "metadata": {},
   "outputs": [],
   "source": [
    "# Import all CSV files from 2013 to 2021\n",
    "years = range(2013, 2022)\n",
    "\n",
    "for year in years:\n",
    "    globals()[f'df_{year}'] = pd.read_csv(f'../datos/datos-{year}.csv', encoding='latin1', sep=';')\n"
   ]
  },
  {
   "cell_type": "code",
   "execution_count": 13,
   "metadata": {},
   "outputs": [],
   "source": [
    "# Creamos un dataframe por cada año\n",
    "df_2013 = pd.read_csv('../datos/datos-2013.csv', encoding='latin1', sep=';')\n",
    "df_2014 = pd.read_csv('../datos/datos-2014.csv', encoding='latin1', sep=';')\n",
    "df_2015 = pd.read_csv('../datos/datos-2015.csv', encoding='latin1', sep=';')\n",
    "df_2016 = pd.read_csv('../datos/datos-2016.csv', encoding='latin1', sep=';')\n",
    "df_2017 = pd.read_csv('../datos/datos-2017.csv', encoding='latin1', sep=';')\n",
    "df_2018 = pd.read_csv('../datos/datos-2018.csv', encoding='latin1', sep=';')\n",
    "df_2019 = pd.read_csv('../datos/datos-2019.csv', encoding='latin1', sep=';')\n",
    "df_2020 = pd.read_csv('../datos/datos-2020.csv', encoding='latin1', sep=';')\n",
    "df_2021 = pd.read_csv('../datos/datos-2021.csv', encoding='latin1', sep=';')\n"
   ]
  },
  {
   "cell_type": "markdown",
   "metadata": {},
   "source": [
    "## 1.1 Lectura y Exploración Inicial:\n",
    "Usando el primer año como referencia, podemos ver cómo está compuesto por:\n",
    "- 16 filas\n",
    "- De estas 16 filas, 4 son de tipo Int y el resto de tipo object o String"
   ]
  },
  {
   "cell_type": "code",
   "execution_count": 22,
   "metadata": {},
   "outputs": [
    {
     "name": "stdout",
     "output_type": "stream",
     "text": [
      "<class 'pandas.core.frame.DataFrame'>\n",
      "RangeIndex: 4498 entries, 0 to 4497\n",
      "Data columns (total 16 columns):\n",
      " #   Column                     Non-Null Count  Dtype \n",
      "---  ------                     --------------  ----- \n",
      " 0   CÓDIGO ÓRGÃO SUPERIOR      4498 non-null   int64 \n",
      " 1   NOME ÓRGÃO SUPERIOR        4498 non-null   object\n",
      " 2   CÓDIGO ÓRGÃO               4498 non-null   int64 \n",
      " 3   NOME ÓRGÃO                 4498 non-null   object\n",
      " 4   CÓDIGO UNIDADE GESTORA     4498 non-null   int64 \n",
      " 5   NOME UNIDADE GESTORA       4498 non-null   object\n",
      " 6   CATEGORIA ECONÔMICA        4498 non-null   object\n",
      " 7   ORIGEM RECEITA             4498 non-null   object\n",
      " 8   ESPÉCIE RECEITA            4498 non-null   object\n",
      " 9   DETALHAMENTO               4498 non-null   object\n",
      " 10  VALOR PREVISTO ATUALIZADO  4498 non-null   object\n",
      " 11  VALOR LANÇADO              4498 non-null   object\n",
      " 12  VALOR REALIZADO            4498 non-null   object\n",
      " 13  PERCENTUAL REALIZADO       4498 non-null   object\n",
      " 14  DATA LANÇAMENTO            4498 non-null   object\n",
      " 15  ANO EXERCÍCIO              4498 non-null   int64 \n",
      "dtypes: int64(4), object(12)\n",
      "memory usage: 562.4+ KB\n"
     ]
    }
   ],
   "source": [
    "df_2013.columns.tolist()\n",
    "df_2013.dtypes\n",
    "df_2013.info()"
   ]
  },
  {
   "cell_type": "markdown",
   "metadata": {},
   "source": [
    "## Uniformidad en columnas y tipos de datos\n",
    "Antes de unir los df, quiero asegurarme que haya consistencia en las columnas y los tipos de datos.\n",
    "Para ello usaré la siguiente función, que compara las columnas y los tipos de datos de los df, comparándolo con el primero que usaremos como referencia. "
   ]
  },
  {
   "cell_type": "code",
   "execution_count": 31,
   "metadata": {},
   "outputs": [],
   "source": [
    "def consistencia_columnas_datos_df(dataframes):\n",
    "    \"\"\"\n",
    "    Check if all dataframes have the same columns and data types\n",
    "    \n",
    "    Args:\n",
    "        dataframes: List of dataframes to check\n",
    "    \n",
    "    Returns:\n",
    "        bool: True if all dataframes are consistent\n",
    "    \"\"\"\n",
    "    if not dataframes:\n",
    "        return True\n",
    "        \n",
    "    reference_columns = set(dataframes[0].columns)\n",
    "    reference_types = dataframes[0].dtypes\n",
    "\n",
    "    # Usando set para comparar columnas, tenemos en cuenta que aun habiendo\n",
    "    # las mismas columnas, pueden tener diferente orden\n",
    "    for df in dataframes[1:]:\n",
    "        if set(df.columns) != reference_columns:\n",
    "            return False\n",
    "            \n",
    "        if not (df.dtypes == reference_types).all():\n",
    "            return False\n",
    "            \n",
    "    return True\n"
   ]
  },
  {
   "cell_type": "code",
   "execution_count": 32,
   "metadata": {},
   "outputs": [
    {
     "name": "stdout",
     "output_type": "stream",
     "text": [
      "True\n"
     ]
    }
   ],
   "source": [
    "dfs = [df_2013, df_2014, df_2015, df_2016, df_2017, df_2018, df_2019, df_2020, df_2021]\n",
    "print(consistencia_columnas_datos_df(dfs))\n"
   ]
  },
  {
   "cell_type": "markdown",
   "metadata": {},
   "source": [
    "✅ Podemos confirmar por tanto, que todos los df, cuentan con las mismas columnas y los mismos tipos de datos"
   ]
  },
  {
   "cell_type": "markdown",
   "metadata": {},
   "source": [
    "## 1.2 Estandarización y Limpieza\n",
    "\n",
    "Estandarizar nombres de columnas si es necesario (En este caso lo haremos ya que los nombres están en Brasileño)\n",
    "\n",
    "Asegurar que los tipos de datos (fechas, valores monetarios) sean consistentes en todos los archivos (Esto lo podemos dar ya por satisfecho, aunque habrá que hacer cambios en los tipos de datos de algunas columnas)\n",
    "\n",
    "Tratar los valores nulos y eliminar filas o columnas irrelevantes."
   ]
  },
  {
   "cell_type": "markdown",
   "metadata": {},
   "source": [
    "### Concateamos los df, unificándolos en uno solo\n",
    "Pasando a contar con 1.026.299 registros"
   ]
  },
  {
   "cell_type": "code",
   "execution_count": 36,
   "metadata": {},
   "outputs": [
    {
     "name": "stdout",
     "output_type": "stream",
     "text": [
      "<class 'pandas.core.frame.DataFrame'>\n",
      "RangeIndex: 1026299 entries, 0 to 1026298\n",
      "Data columns (total 16 columns):\n",
      " #   Column                     Non-Null Count    Dtype \n",
      "---  ------                     --------------    ----- \n",
      " 0   CÓDIGO ÓRGÃO SUPERIOR      1026299 non-null  int64 \n",
      " 1   NOME ÓRGÃO SUPERIOR        1026299 non-null  object\n",
      " 2   CÓDIGO ÓRGÃO               1026299 non-null  int64 \n",
      " 3   NOME ÓRGÃO                 1026299 non-null  object\n",
      " 4   CÓDIGO UNIDADE GESTORA     1026299 non-null  int64 \n",
      " 5   NOME UNIDADE GESTORA       1026299 non-null  object\n",
      " 6   CATEGORIA ECONÔMICA        1026299 non-null  object\n",
      " 7   ORIGEM RECEITA             1026299 non-null  object\n",
      " 8   ESPÉCIE RECEITA            1026299 non-null  object\n",
      " 9   DETALHAMENTO               1026299 non-null  object\n",
      " 10  VALOR PREVISTO ATUALIZADO  1026299 non-null  object\n",
      " 11  VALOR LANÇADO              1026299 non-null  object\n",
      " 12  VALOR REALIZADO            1026299 non-null  object\n",
      " 13  PERCENTUAL REALIZADO       1026299 non-null  object\n",
      " 14  DATA LANÇAMENTO            1025721 non-null  object\n",
      " 15  ANO EXERCÍCIO              1026299 non-null  int64 \n",
      "dtypes: int64(4), object(12)\n",
      "memory usage: 125.3+ MB\n"
     ]
    },
    {
     "data": {
      "text/html": [
       "<div>\n",
       "<style scoped>\n",
       "    .dataframe tbody tr th:only-of-type {\n",
       "        vertical-align: middle;\n",
       "    }\n",
       "\n",
       "    .dataframe tbody tr th {\n",
       "        vertical-align: top;\n",
       "    }\n",
       "\n",
       "    .dataframe thead th {\n",
       "        text-align: right;\n",
       "    }\n",
       "</style>\n",
       "<table border=\"1\" class=\"dataframe\">\n",
       "  <thead>\n",
       "    <tr style=\"text-align: right;\">\n",
       "      <th></th>\n",
       "      <th>CÓDIGO ÓRGÃO SUPERIOR</th>\n",
       "      <th>NOME ÓRGÃO SUPERIOR</th>\n",
       "      <th>CÓDIGO ÓRGÃO</th>\n",
       "      <th>NOME ÓRGÃO</th>\n",
       "      <th>CÓDIGO UNIDADE GESTORA</th>\n",
       "      <th>NOME UNIDADE GESTORA</th>\n",
       "      <th>CATEGORIA ECONÔMICA</th>\n",
       "      <th>ORIGEM RECEITA</th>\n",
       "      <th>ESPÉCIE RECEITA</th>\n",
       "      <th>DETALHAMENTO</th>\n",
       "      <th>VALOR PREVISTO ATUALIZADO</th>\n",
       "      <th>VALOR LANÇADO</th>\n",
       "      <th>VALOR REALIZADO</th>\n",
       "      <th>PERCENTUAL REALIZADO</th>\n",
       "      <th>DATA LANÇAMENTO</th>\n",
       "      <th>ANO EXERCÍCIO</th>\n",
       "    </tr>\n",
       "  </thead>\n",
       "  <tbody>\n",
       "    <tr>\n",
       "      <th>0</th>\n",
       "      <td>63000</td>\n",
       "      <td>Advocacia-Geral da União</td>\n",
       "      <td>63000</td>\n",
       "      <td>Advocacia-Geral da União - Unidades com víncul...</td>\n",
       "      <td>110060</td>\n",
       "      <td>COORD. GERAL DE ORC. FIN. E ANAL. CONT. - AGU</td>\n",
       "      <td>Receitas Correntes</td>\n",
       "      <td>Outras Receitas Correntes</td>\n",
       "      <td>Bens, Direitos e Valores Incorporados ao Patr</td>\n",
       "      <td>REC.DIVIDA ATIVA NAO TRIBUTARIA DE OUTRAS REC</td>\n",
       "      <td>0,00</td>\n",
       "      <td>0,00</td>\n",
       "      <td>1297,13</td>\n",
       "      <td>0,00</td>\n",
       "      <td>31/12/2013</td>\n",
       "      <td>2013</td>\n",
       "    </tr>\n",
       "  </tbody>\n",
       "</table>\n",
       "</div>"
      ],
      "text/plain": [
       "   CÓDIGO ÓRGÃO SUPERIOR       NOME ÓRGÃO SUPERIOR  CÓDIGO ÓRGÃO  \\\n",
       "0                  63000  Advocacia-Geral da União         63000   \n",
       "\n",
       "                                          NOME ÓRGÃO  CÓDIGO UNIDADE GESTORA  \\\n",
       "0  Advocacia-Geral da União - Unidades com víncul...                  110060   \n",
       "\n",
       "                            NOME UNIDADE GESTORA CATEGORIA ECONÔMICA  \\\n",
       "0  COORD. GERAL DE ORC. FIN. E ANAL. CONT. - AGU  Receitas Correntes   \n",
       "\n",
       "              ORIGEM RECEITA                                ESPÉCIE RECEITA  \\\n",
       "0  Outras Receitas Correntes  Bens, Direitos e Valores Incorporados ao Patr   \n",
       "\n",
       "                                    DETALHAMENTO VALOR PREVISTO ATUALIZADO  \\\n",
       "0  REC.DIVIDA ATIVA NAO TRIBUTARIA DE OUTRAS REC                      0,00   \n",
       "\n",
       "  VALOR LANÇADO VALOR REALIZADO PERCENTUAL REALIZADO DATA LANÇAMENTO  \\\n",
       "0          0,00         1297,13                 0,00      31/12/2013   \n",
       "\n",
       "   ANO EXERCÍCIO  \n",
       "0           2013  "
      ]
     },
     "execution_count": 36,
     "metadata": {},
     "output_type": "execute_result"
    }
   ],
   "source": [
    "df = pd.concat([df_2013,\n",
    "                df_2014,\n",
    "                df_2015,\n",
    "                df_2016,\n",
    "                df_2017,\n",
    "                df_2018,\n",
    "                df_2019,\n",
    "                df_2020,\n",
    "                df_2021\n",
    "                ], axis=0, ignore_index = True)\n",
    "df.info()\n",
    "df.head(1)"
   ]
  },
  {
   "cell_type": "markdown",
   "metadata": {},
   "source": [
    "### Primero cambiaré el nombre de las columnas para mejorar la legibilidad"
   ]
  },
  {
   "cell_type": "code",
   "execution_count": 37,
   "metadata": {},
   "outputs": [],
   "source": [
    "df.rename(columns={\n",
    "    \"CÓDIGO ÓRGÃO SUPERIOR\": \"codigo_org_sup\",\n",
    "    \"NOME ÓRGÃO SUPERIOR\": \"nombre_org_sup\",\n",
    "    \"CÓDIGO ÓRGÃO\": \"codigo_org\",\n",
    "    \"NOME ÓRGÃO\": \"nombre_org\",\n",
    "    \"CÓDIGO UNIDADE GESTORA\": \"codigo_unidad_gestora\",\n",
    "    \"NOME UNIDADE GESTORA\": \"nombre_unidad_gestora\",\n",
    "    \"CATEGORIA ECONÔMICA\": \"categoria_economica\",\n",
    "    \"ORIGEM RECEITA\": \"origen_ingreso\",\n",
    "    \"ESPÉCIE RECEITA\": \"especie_ingreso\",\n",
    "    \"DETALHAMENTO\": \"detalle_ingreso\",\n",
    "    \"VALOR PREVISTO ATUALIZADO\": \"valor_previsto_actualizado\",\n",
    "    \"VALOR LANÇADO\": \"valor_lanzado\",\n",
    "    \"VALOR REALIZADO\": \"valor_recaudado\",\n",
    "    \"PERCENTUAL REALIZADO\": \"porcentaje_recaudado\",\n",
    "    \"DATA LANÇAMENTO\": \"fecha_ingreso\",\n",
    "    \"ANO EXERCÍCIO\": \"fecha_anual\"\n",
    "}, inplace=True)"
   ]
  },
  {
   "cell_type": "markdown",
   "metadata": {},
   "source": [
    "###  ✅ Estandarizar nombres de columnas"
   ]
  },
  {
   "cell_type": "code",
   "execution_count": 38,
   "metadata": {},
   "outputs": [
    {
     "name": "stdout",
     "output_type": "stream",
     "text": [
      "<class 'pandas.core.frame.DataFrame'>\n",
      "RangeIndex: 1026299 entries, 0 to 1026298\n",
      "Data columns (total 16 columns):\n",
      " #   Column                      Non-Null Count    Dtype \n",
      "---  ------                      --------------    ----- \n",
      " 0   codigo_org_sup              1026299 non-null  int64 \n",
      " 1   nombre_org_sup              1026299 non-null  object\n",
      " 2   codigo_org                  1026299 non-null  int64 \n",
      " 3   nombre_org                  1026299 non-null  object\n",
      " 4   codigo_unidad_gestora       1026299 non-null  int64 \n",
      " 5   nombre_unidad_gestora       1026299 non-null  object\n",
      " 6   categoria_economica         1026299 non-null  object\n",
      " 7   origen_ingreso              1026299 non-null  object\n",
      " 8   especie_ingreso             1026299 non-null  object\n",
      " 9   detalle_ingreso             1026299 non-null  object\n",
      " 10  valor_previsto_actualizado  1026299 non-null  object\n",
      " 11  valor_lanzado               1026299 non-null  object\n",
      " 12  valor_recaudado             1026299 non-null  object\n",
      " 13  porcentaje_recaudado        1026299 non-null  object\n",
      " 14  fecha_ingreso               1025721 non-null  object\n",
      " 15  fecha_anual                 1026299 non-null  int64 \n",
      "dtypes: int64(4), object(12)\n",
      "memory usage: 125.3+ MB\n"
     ]
    }
   ],
   "source": [
    "df.info()"
   ]
  },
  {
   "cell_type": "markdown",
   "metadata": {},
   "source": [
    "### Ahora estandarizamos los tipos de datos\n",
    "Cómo podemos ver, contamos con 4 columnas de tipo Int y 12 de tipo String"
   ]
  },
  {
   "cell_type": "code",
   "execution_count": 39,
   "metadata": {},
   "outputs": [
    {
     "data": {
      "text/html": [
       "<div>\n",
       "<style scoped>\n",
       "    .dataframe tbody tr th:only-of-type {\n",
       "        vertical-align: middle;\n",
       "    }\n",
       "\n",
       "    .dataframe tbody tr th {\n",
       "        vertical-align: top;\n",
       "    }\n",
       "\n",
       "    .dataframe thead th {\n",
       "        text-align: right;\n",
       "    }\n",
       "</style>\n",
       "<table border=\"1\" class=\"dataframe\">\n",
       "  <thead>\n",
       "    <tr style=\"text-align: right;\">\n",
       "      <th></th>\n",
       "      <th>codigo_org_sup</th>\n",
       "      <th>nombre_org_sup</th>\n",
       "      <th>codigo_org</th>\n",
       "      <th>nombre_org</th>\n",
       "      <th>codigo_unidad_gestora</th>\n",
       "      <th>nombre_unidad_gestora</th>\n",
       "      <th>categoria_economica</th>\n",
       "      <th>origen_ingreso</th>\n",
       "      <th>especie_ingreso</th>\n",
       "      <th>detalle_ingreso</th>\n",
       "      <th>valor_previsto_actualizado</th>\n",
       "      <th>valor_lanzado</th>\n",
       "      <th>valor_recaudado</th>\n",
       "      <th>porcentaje_recaudado</th>\n",
       "      <th>fecha_ingreso</th>\n",
       "      <th>fecha_anual</th>\n",
       "    </tr>\n",
       "  </thead>\n",
       "  <tbody>\n",
       "    <tr>\n",
       "      <th>0</th>\n",
       "      <td>63000</td>\n",
       "      <td>Advocacia-Geral da União</td>\n",
       "      <td>63000</td>\n",
       "      <td>Advocacia-Geral da União - Unidades com víncul...</td>\n",
       "      <td>110060</td>\n",
       "      <td>COORD. GERAL DE ORC. FIN. E ANAL. CONT. - AGU</td>\n",
       "      <td>Receitas Correntes</td>\n",
       "      <td>Outras Receitas Correntes</td>\n",
       "      <td>Bens, Direitos e Valores Incorporados ao Patr</td>\n",
       "      <td>REC.DIVIDA ATIVA NAO TRIBUTARIA DE OUTRAS REC</td>\n",
       "      <td>0,00</td>\n",
       "      <td>0,00</td>\n",
       "      <td>1297,13</td>\n",
       "      <td>0,00</td>\n",
       "      <td>31/12/2013</td>\n",
       "      <td>2013</td>\n",
       "    </tr>\n",
       "  </tbody>\n",
       "</table>\n",
       "</div>"
      ],
      "text/plain": [
       "   codigo_org_sup            nombre_org_sup  codigo_org  \\\n",
       "0           63000  Advocacia-Geral da União       63000   \n",
       "\n",
       "                                          nombre_org  codigo_unidad_gestora  \\\n",
       "0  Advocacia-Geral da União - Unidades com víncul...                 110060   \n",
       "\n",
       "                           nombre_unidad_gestora categoria_economica  \\\n",
       "0  COORD. GERAL DE ORC. FIN. E ANAL. CONT. - AGU  Receitas Correntes   \n",
       "\n",
       "              origen_ingreso                                especie_ingreso  \\\n",
       "0  Outras Receitas Correntes  Bens, Direitos e Valores Incorporados ao Patr   \n",
       "\n",
       "                                 detalle_ingreso valor_previsto_actualizado  \\\n",
       "0  REC.DIVIDA ATIVA NAO TRIBUTARIA DE OUTRAS REC                       0,00   \n",
       "\n",
       "  valor_lanzado valor_recaudado porcentaje_recaudado fecha_ingreso  \\\n",
       "0          0,00         1297,13                 0,00    31/12/2013   \n",
       "\n",
       "   fecha_anual  \n",
       "0         2013  "
      ]
     },
     "execution_count": 39,
     "metadata": {},
     "output_type": "execute_result"
    }
   ],
   "source": [
    "df.head(1)"
   ]
  }
 ],
 "metadata": {
  "kernelspec": {
   "display_name": "Python 3",
   "language": "python",
   "name": "python3"
  },
  "language_info": {
   "codemirror_mode": {
    "name": "ipython",
    "version": 3
   },
   "file_extension": ".py",
   "mimetype": "text/x-python",
   "name": "python",
   "nbconvert_exporter": "python",
   "pygments_lexer": "ipython3",
   "version": "3.9.6"
  }
 },
 "nbformat": 4,
 "nbformat_minor": 2
}
